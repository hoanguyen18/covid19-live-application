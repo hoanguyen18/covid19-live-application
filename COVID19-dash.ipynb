{
 "cells": [
  {
   "cell_type": "markdown",
   "id": "d9fcf95c",
   "metadata": {},
   "source": [
    "## Importing necessary packages "
   ]
  },
  {
   "cell_type": "code",
   "execution_count": 1,
   "id": "6caa40de",
   "metadata": {},
   "outputs": [],
   "source": [
    "import pandas as pd\n",
    "import plotly.express as px\n",
    "from pandas_datareader import wb      \n",
    "# import pandas_datareader.data as web  \n",
    "# from datetime import datetime, timedelta\n",
    "\n",
    "from jupyter_dash import JupyterDash\n",
    "from dash import dcc, html\n",
    "\n",
    "import dash_bootstrap_components as dbc\n",
    "from dash_bootstrap_templates import load_figure_template\n",
    "\n",
    "from dash.dependencies import Input, Output\n",
    "\n",
    "# import requests \n",
    "\n",
    "dbc_css = 'https://cdn.jsdelivr.net/gh/AnnMarieW/dash-bootstrap-templates@V1.0.2/dbc.min.css'\n",
    "load_figure_template('bootstrap')"
   ]
  },
  {
   "cell_type": "markdown",
   "id": "272a1e98",
   "metadata": {},
   "source": [
    "# Task 1 "
   ]
  },
  {
   "cell_type": "code",
   "execution_count": null,
   "id": "574e8adb",
   "metadata": {},
   "outputs": [],
   "source": [
    "# Retrieve data \n",
    "data = pd.read_csv('https://covid.ourworldindata.org/data/owid-covid-data.csv')\n",
    "\n",
    "# look at data \n",
    "data.head()"
   ]
  },
  {
   "cell_type": "markdown",
   "id": "bc6ba6e8",
   "metadata": {},
   "source": [
    "Working with tidying the data follows, I observe there are some columns not needed for the analysis, as the task says. "
   ]
  },
  {
   "cell_type": "code",
   "execution_count": null,
   "id": "5cf08969",
   "metadata": {},
   "outputs": [],
   "source": [
    "# Extract relevant columns \n",
    "data = data[['iso_code','location', 'continent', 'date', 'new_cases', \n",
    "      'total_cases', 'total_cases_per_million', 'new_deaths', \n",
    "      'total_deaths', 'total_deaths_per_million', 'new_vaccinations', \n",
    "      'people_fully_vaccinated', 'total_vaccinations_per_hundred', 'people_vaccinated_per_hundred']]\n"
   ]
  },
  {
   "cell_type": "code",
   "execution_count": null,
   "id": "21025f66",
   "metadata": {},
   "outputs": [],
   "source": [
    "# Checking classes \n",
    "data.info()\n",
    "\n",
    "# Converting to datetime \n",
    "data['date'] = pd.to_datetime(data['date'])"
   ]
  },
  {
   "cell_type": "code",
   "execution_count": null,
   "id": "503719dd",
   "metadata": {},
   "outputs": [],
   "source": [
    "# data.info()"
   ]
  },
  {
   "cell_type": "markdown",
   "id": "ae91466a",
   "metadata": {},
   "source": [
    "## Feature 1 "
   ]
  },
  {
   "cell_type": "markdown",
   "id": "09996410",
   "metadata": {},
   "source": [
    "Considering that this is data about the world as a whole that we want to retrieve, we can use the info located where location equals world in the dataset. "
   ]
  },
  {
   "cell_type": "code",
   "execution_count": null,
   "id": "e6ac9c08",
   "metadata": {},
   "outputs": [],
   "source": [
    "# We have a country called world we can use for the first feature \n",
    "world_df = data[data['location'] == 'World']\n",
    "\n",
    "# Sorting in descending order - leaving the values we want on the top row of the dataset. \n",
    "world_df = world_df.sort_values(by = 'date', ascending = False)\n",
    "\n",
    "# Limiting to the columns of interest. \n",
    "world_df = world_df[['location' , 'date', 'total_deaths','total_cases', 'people_fully_vaccinated']]\n",
    "\n",
    "\n",
    "\n",
    "world_df.head()"
   ]
  },
  {
   "cell_type": "code",
   "execution_count": null,
   "id": "34a060c6",
   "metadata": {},
   "outputs": [],
   "source": [
    "# Extracting the values of interest and storing them in variables that we supply to the first card \n",
    "# in our application \n",
    "TotalDeaths = round(world_df.iloc[0]['total_deaths'])\n",
    "TotalCases = round(world_df.iloc[0]['total_cases'])\n",
    "PeopleVaccinatedFully = round(world_df.iloc[1]['people_fully_vaccinated'])\n",
    "PeopleVaccinatedFully\n",
    "\n",
    "DateOfToday = world_df.iloc[0]['date']\n",
    "DateOfToday"
   ]
  },
  {
   "cell_type": "markdown",
   "id": "488ce4cd",
   "metadata": {},
   "source": [
    "## Feature 2 "
   ]
  },
  {
   "cell_type": "markdown",
   "id": "6ee78b99",
   "metadata": {},
   "source": [
    "I interpret this task as that if the user selects Deaths as a variable, only the total, total per 1 million and newly reported \n",
    "will appear for the deaths variable, and not for the cases variable. Same goes for cases. This gives the user the availability to choose between three metrics after initial choice of variable. "
   ]
  },
  {
   "cell_type": "code",
   "execution_count": null,
   "id": "92a7dd61",
   "metadata": {},
   "outputs": [],
   "source": [
    "# Removing world location \n",
    "df_feature2 = data[data['location'] != 'World']\n",
    "\n",
    "#changing the location column to country - not really necessary but done for clarity.\n",
    "df_feature2.rename(columns = {'location': 'country'}, inplace = True)\n",
    "\n"
   ]
  },
  {
   "cell_type": "code",
   "execution_count": null,
   "id": "46dade04",
   "metadata": {},
   "outputs": [],
   "source": [
    "df_feature2.head()"
   ]
  },
  {
   "cell_type": "code",
   "execution_count": null,
   "id": "5a6f4f63",
   "metadata": {},
   "outputs": [],
   "source": [
    "# Checking for weird continents, seems to make sense. \n",
    "df_feature2['continent'].value_counts()"
   ]
  },
  {
   "cell_type": "markdown",
   "id": "b61e9439",
   "metadata": {},
   "source": [
    "Note! I further work with the dataset in a way in which I perceived that summarising the dataset did not make sense because \n",
    "of aggregated columns. One can not summarise the total deaths i.e., because this one is not changing from day to day, leaving the initial \n",
    "summarised value way too large. "
   ]
  },
  {
   "cell_type": "markdown",
   "id": "900f72e8",
   "metadata": {},
   "source": [
    "Therefore, I choose three dates to work with. \n",
    "This is: \n",
    "- 31/12/2020 -> for visualising the first year\n",
    "- 31/12/2021 -> for visualising the first and second year\n",
    "- 22/05/2022 -> for visualising the first, second and third year"
   ]
  },
  {
   "cell_type": "code",
   "execution_count": null,
   "id": "43a57192",
   "metadata": {},
   "outputs": [],
   "source": [
    "# These variables are later used in the application for subsetting \n",
    "year1 = df_feature2[df_feature2['date'] == '2020-12-31'].copy()\n",
    "year2 = df_feature2[df_feature2['date'] == '2021-12-31'].copy()\n",
    "total_df = df_feature2[df_feature2['date'] == '2022-05-22'].copy()\n",
    "\n",
    "# total_df = df_feature2[df_feature2['date'] == '2022-05-22'].copy()\n",
    "\n"
   ]
  },
  {
   "cell_type": "code",
   "execution_count": null,
   "id": "58e4bc4c",
   "metadata": {},
   "outputs": [],
   "source": [
    "# These are the final values in the dataset \n",
    "total_df.head()"
   ]
  },
  {
   "cell_type": "code",
   "execution_count": null,
   "id": "337afa94",
   "metadata": {},
   "outputs": [],
   "source": [
    "# Variables for storing the dates\n",
    "date_year1 = '2020-12-31'\n",
    "date_year2 = '2021-12-31'\n",
    "date_year3 = '2022-05-22'"
   ]
  },
  {
   "cell_type": "markdown",
   "id": "a330e668",
   "metadata": {},
   "source": [
    "See comments further down in the application regarding how I implemented feature 2. "
   ]
  },
  {
   "cell_type": "markdown",
   "id": "b329aa1f",
   "metadata": {},
   "source": [
    "## Feature number 3 "
   ]
  },
  {
   "cell_type": "markdown",
   "id": "a3ef3e99",
   "metadata": {},
   "source": [
    "The global number of occurences is interpreted that it is the world numbers the task is looking for. I.e, in similarity with \n",
    "feature 1, I can use the dataframe where location equals world. "
   ]
  },
  {
   "cell_type": "code",
   "execution_count": null,
   "id": "e15f4b59",
   "metadata": {},
   "outputs": [],
   "source": [
    "# barplot for each week \n",
    "weekly_df = data \n",
    "# weekly_df.info()"
   ]
  },
  {
   "cell_type": "code",
   "execution_count": null,
   "id": "dd6cb922",
   "metadata": {},
   "outputs": [],
   "source": [
    "\n",
    "# This function is defined to change our dataframe data into what is needed for the application. \n",
    "# By filtering out where location equals world, reseting index, resampling by weeking and summarising, \n",
    "# the new data seems ready for the application \n",
    "def changing_to_weekly(df = weekly_df): \n",
    "    \n",
    "    df = df[df['location'] == 'World'].reset_index().set_index('date').resample('w').sum().reset_index()\n",
    "    df = df[['date', 'new_deaths','new_cases','new_vaccinations']]\n",
    "    \n",
    "    # renaming for clarity\n",
    "    df.rename(columns = {'date': 'week'}, inplace = True)\n",
    "    \n",
    "    return df"
   ]
  },
  {
   "cell_type": "code",
   "execution_count": null,
   "id": "94491377",
   "metadata": {
    "scrolled": false
   },
   "outputs": [],
   "source": [
    "weekly_df = changing_to_weekly(weekly_df)\n",
    "\n",
    "# Contains what we need for the barplot \n",
    "weekly_df.head()"
   ]
  },
  {
   "cell_type": "code",
   "execution_count": null,
   "id": "cbb9ab62",
   "metadata": {},
   "outputs": [],
   "source": [
    "weekly_df.head()"
   ]
  },
  {
   "cell_type": "code",
   "execution_count": null,
   "id": "2a73b81f",
   "metadata": {},
   "outputs": [],
   "source": [
    "# Renaming so labels get nicer \n",
    "weekly_df.rename(columns = {'new_deaths':'New Deaths',\n",
    "                            'new_cases':'New Cases',\n",
    "                            'new_vaccinations':'New Vaccinations'}, inplace = True)\n"
   ]
  },
  {
   "cell_type": "markdown",
   "id": "4ab644e8",
   "metadata": {},
   "source": [
    "   "
   ]
  },
  {
   "cell_type": "markdown",
   "id": "8c8ceefa",
   "metadata": {},
   "source": [
    "# Application development"
   ]
  },
  {
   "cell_type": "markdown",
   "id": "b920f9f6",
   "metadata": {},
   "source": [
    "## Dropdown menus and radioitems used in the application "
   ]
  },
  {
   "cell_type": "code",
   "execution_count": null,
   "id": "9c28a755",
   "metadata": {},
   "outputs": [],
   "source": [
    "# options for the dropdown below\n",
    "options_variable = [{'label': 'Deaths', 'value':'total_deaths'}, \n",
    "                    {'label':'Cases', 'value': 'total_cases'},\n",
    "                    {'label': 'Vaccinations', 'value': 'total_vaccinations_per_hundred'}\n",
    "]\n",
    "\n",
    "# Variable of choice \n",
    "var_choice = dcc.Dropdown(\n",
    "    id = 'my_variable',\n",
    "    options = options_variable,\n",
    "    value = None # No default value \n",
    ")\n",
    "#-----------------------------------------\n",
    "\n",
    "# the dependent metric (is filled with the choice the user makes in the dropdown above)\n",
    "dependent_metric = dcc.Dropdown(\n",
    "    id = 'my_metric',\n",
    "    options = [], # empty list \n",
    "    value = None # default = None, because this is dependent on the variable choice\n",
    ")\n",
    "\n",
    "\n",
    "#-----------------------------------------\n",
    "\n",
    "# variable of choice for bar plot, using radioitems here. Could might as well have used dropdown here too. \n",
    "bar_button = dcc.RadioItems(\n",
    "    id = 'my_bar_choice',\n",
    "    \n",
    "    # options equals the variable names for the columns in the weekly df, \n",
    "    # except for the one named week, naturally\n",
    "    options = [{'label': i, 'value': i} for i in weekly_df.columns[1:]], \n",
    "    value = 'New Cases'\n",
    ")\n"
   ]
  },
  {
   "cell_type": "markdown",
   "id": "1e9c838d",
   "metadata": {},
   "source": [
    "## Cards: \n",
    "I split my application into cards and tabs, because I feel that it makes it a lot more nicer."
   ]
  },
  {
   "cell_type": "code",
   "execution_count": null,
   "id": "dea81f18",
   "metadata": {},
   "outputs": [],
   "source": [
    "# Welcome card as my \"front page\"\n",
    "welcome_card = dbc.Card(\n",
    "    children = [  \n",
    "\n",
    "        # 1st row with card header\n",
    "        dbc.Row([\n",
    "\n",
    "            # column with shool's logo\n",
    "            dbc.Col(dbc.CardImg(src = 'assets/nhh.png', style = {'height' : 40}), width = 'auto'), # picture \n",
    "\n",
    "            # column with div information\n",
    "            dbc.Col(html.H2('BAN438 Exam | Candidate: 6',style = {'textAlign' : 'center'}), width = 9)\n",
    "            \n",
    "        ]),\n",
    "        \n",
    "    ], \n",
    "    body = True \n",
    ")"
   ]
  },
  {
   "cell_type": "code",
   "execution_count": null,
   "id": "20f86468",
   "metadata": {},
   "outputs": [],
   "source": [
    "## Feature 1 \n",
    "cardFeature1 = dbc.Card(\n",
    "    children = [  \n",
    "\n",
    "        # 1st row with \n",
    "        dbc.Row(dbc.Col(html.H4('Feature 1: ', className = 'card-title'), width = \"auto\")), # title \n",
    "        html.Br(),\n",
    "        dbc.Row(\n",
    "            dbc.Col(\n",
    "                html.P(f'Note! These values are static and therefore only valid for the last date in the dataframe, which is ({DateOfToday}).', className = 'card-text'))),\n",
    "                # description above \n",
    "        \n",
    "            \n",
    "        html.Br(), \n",
    "        dbc.Row(children = [\n",
    "            dbc.Col(html.H4(f'Total deaths: {TotalDeaths:,}', style = {'color' : 'darkred'}), width = 4), # number contains thousands separator\n",
    "            html.Br(),\n",
    "            dbc.Col(html.H4(f'Total cases: {TotalCases:,}', style = {'color' : 'red'}), width = 4),\n",
    "            html.Br(),\n",
    "            dbc.Col(html.H4(f'People fully vaccinated: {PeopleVaccinatedFully:,}', \n",
    "                            style = {'color' : 'green'}), width = 4),\n",
    "                     ]\n",
    "                \n",
    "               )\n",
    "        \n",
    "    ],\n",
    "    body = True\n",
    "                \n",
    "\n",
    "    \n",
    ")"
   ]
  },
  {
   "cell_type": "code",
   "execution_count": null,
   "id": "05a44d6f",
   "metadata": {},
   "outputs": [],
   "source": [
    "# Choropleth card - containing two dropdowns and the graph. \n",
    "card_choropleth = dbc.Card(children = [\n",
    "    dbc.Row(dbc.Col(html.H4('Feature 2: ', className = 'card-title'))),\n",
    "    dbc.Row(dbc.Col(html.P('Note! The variable of interest must be chosen before the metric and graph appears: ', className = 'card-text'))),\n",
    "    \n",
    "    html.Br(), \n",
    "    \n",
    "    # Variable choice \n",
    "    dbc.Row(children = [\n",
    "        dbc.Col(html.H4('Choose variable of interest: '), width = 4),\n",
    "        dbc.Col(var_choice, width = 4)]),\n",
    "        \n",
    "    html.Br(), \n",
    "    \n",
    "    # Metric choice \n",
    "    dbc.Row(children = [\n",
    "        dbc.Col(html.H4('Choose metric of interest: '), width = 4),\n",
    "        dbc.Col(dependent_metric)], style = {'display': 'none'}, # display is set to none so it will not be\n",
    "                                                                # possible to choose metric before variable  \n",
    "           id = 'show_metric'),\n",
    "#    \n",
    "    \n",
    "    # this dcc input below is something I added extra. It lets the user choose what year to look at, \n",
    "    # whether it is 2020, 2021 or 2022 (which is the sum of all years). \n",
    "    # Note that the values displayed are the aggregate totals - so it is not possible to \"compare years\" in that sense. \n",
    "    # This is due to the fact that I interpreted it so that the task was not interested in the new cases each year. \n",
    "    \n",
    "    # Input year (optional - inspiration retrieved from Plotly Dash website)\n",
    "    html.Br(),\n",
    "    dbc.Row(children = [\n",
    "            dbc.Col(html.H4('Optional choice of year (2020-2022): '), width = \"6\"),\n",
    "        dbc.Col(html.P('Notice that these are aggregated years. In example, a chosen year of 2021 equals the numbers from both 2020 and 2021. ', className = 'card-text')),\n",
    "        \n",
    "            dbc.Col(dcc.Input(id = 'year_input'.format('number'), \n",
    "                              type = \"{}\".format('number'),\n",
    "                              \n",
    "                              placeholder = 2022, # default \n",
    "                              size = \"20\", \n",
    "                                debounce=True, min = 2020, max = 2022, step = 1), width = 6)], \n",
    "           id = 'show_year'), # id because it will be displayed after user makes a choice regarding variable. \n",
    "    \n",
    "    html.Br(),\n",
    "    dbc.Row(dcc.Graph(id = 'my_choropleth'), style = {'display': 'none'}, id = 'show_graph'), \n",
    "    \n",
    "    \n",
    "    \n",
    "], body = True\n",
    "                     )\n",
    "\n",
    "\n",
    "# card for the barplot \n",
    "card_barplot = dbc.Card(children = [\n",
    "    dbc.Row(dbc.Col(html.H4('Feature 3: ', className = 'card-title'))),\n",
    "    html.Br(), \n",
    "    dbc.Row(dbc.Col(bar_button, width = \"8\")), \n",
    "    html.Br(), \n",
    "    dbc.Row(dbc.Col(dcc.Graph(id = 'my_barplot'))),\n",
    "    html.Br()], body = True\n",
    "                     )"
   ]
  },
  {
   "cell_type": "code",
   "execution_count": null,
   "id": "ddaac805",
   "metadata": {},
   "outputs": [],
   "source": [
    "## Insert the two cards above into tabs. This is a decision I made, could also have the cards stacked (i.e all cards on same \n",
    "# page)\n",
    "tab1 = dbc.Tab(children = [card_choropleth], label = \"Choropleth-tab\")\n",
    "\n",
    "tab2 = dbc.Tab(children = [card_barplot], label = \"Bar-plot tab\")\n",
    "    "
   ]
  },
  {
   "cell_type": "markdown",
   "id": "37f34d9c",
   "metadata": {},
   "source": [
    "## The app layout"
   ]
  },
  {
   "cell_type": "code",
   "execution_count": null,
   "id": "6008430a",
   "metadata": {},
   "outputs": [],
   "source": [
    "\n",
    "## The app ## \n",
    "load_figure_template('lux')\n",
    "app = JupyterDash(external_stylesheets = [dbc.themes.LUX, dbc_css])\n",
    "\n",
    "app.layout = dbc.Container(\n",
    "    children = [\n",
    "        \n",
    "        # insert card in column\n",
    "        dbc.Row(dbc.Col(welcome_card, width = 12)),\n",
    "        html.Br(), \n",
    "        cardFeature1,\n",
    "        \n",
    "        html.Br(), \n",
    "        dbc.Tabs(children = [\n",
    "            tab1, \n",
    "            tab2\n",
    "        ]), \n",
    "                 \n",
    "        html.Br(), \n",
    "        html.Br() \n",
    "        \n",
    "        \n",
    "\n",
    "        \n",
    "    ],\n",
    "    className = 'dbc'\n",
    ")\n",
    "\n",
    "# ----------------------------------------------\n",
    "# Callback for showing metric once variable is chosen by the user. \n",
    "# Inspiration for this is retrieved from the solution proposal for workshop 7\n",
    "@app.callback(\n",
    "   Output('show_metric', 'style'),\n",
    "   Input('my_variable', 'value')\n",
    ")\n",
    "\n",
    "\n",
    "# Method retrieved from solution proposal to workshop 7\n",
    "def show_metric(year): \n",
    "    if year == None: \n",
    "        return {'display': 'none'} \n",
    "    else: \n",
    "        return {'display': 'inline'}\n",
    "\n",
    "\n",
    "# ----------------------------------------------\n",
    "# Callback for showing the graph once both options is chosen by the user. \n",
    "    \n",
    "@app.callback(\n",
    "   Output('show_graph', 'style'),\n",
    "   Input('my_metric', 'value'),\n",
    "    Input('my_variable', 'value')\n",
    ")\n",
    "\n",
    "def show_my_graph(value1, value2): \n",
    "    if ((value1 == None)|(value2 == None)): \n",
    "        return {'display': 'none'} \n",
    "    else: \n",
    "        return {'display': 'inline'}\n",
    "\n",
    "\n",
    "# ----------------------------------------------\n",
    "# Callback for showing the optional year input once metric is chosen by the user. \n",
    "\n",
    "@app.callback(\n",
    "   Output('show_year', 'style'),\n",
    "   Input('my_metric', 'value'), \n",
    "    Input('my_variable', 'value'),\n",
    ")\n",
    "\n",
    "def show_year(value1, value2): \n",
    "    if ((value1 == None)|(value2 == None)): \n",
    "        return {'display': 'none'} \n",
    "    else: \n",
    "        return {'display': 'inline'}\n",
    "\n",
    "    \n",
    "# ----------------------------------------------\n",
    "# Callback for linking the options for metric after variable is chosen by the user. \n",
    "@app.callback(\n",
    "    Output('my_metric', 'options'),\n",
    "    Input('my_variable', 'value'),\n",
    ")\n",
    "\n",
    "def choose_metric(value): \n",
    "    if (value ==  'total_deaths'):\n",
    "        returning_value = [{'label': 'Total Deaths', 'value': 'total_deaths'},\n",
    "                           {'label': 'Total Deaths per million', 'value': 'total_deaths_per_million'},\n",
    "                           {'label': 'Newly reported deaths (last 24 hrs)', 'value': 'new_deaths'}]\n",
    "                           \n",
    "    \n",
    "    elif (value == 'total_cases'):\n",
    "         returning_value = [\n",
    "                           {'label': 'Total Cases', 'value': 'total_cases'},\n",
    "                           {'label': 'Total Cases per million', 'value': 'total_cases_per_million'},\n",
    "                           {'label': 'Newly reported cases (last 24 hrs)', 'value': 'new_cases'}]\n",
    "        \n",
    "    \n",
    "    else: \n",
    "        returning_value = [{'label': 'Total doses adms pr 100 pop', 'value': 'total_vaccinations_per_hundred'},\n",
    "                           {'label': 'Total people vaccinated with at least one dose pr 100 pop', \n",
    "                            'value': 'people_vaccinated_per_hundred'},\n",
    "                           {'label': 'Persons fully vaccinated', 'value': 'people_fully_vaccinated'}]\n",
    "        \n",
    "    return returning_value\n",
    "\n",
    "\n",
    "\n",
    "\n",
    "# ----------------------------------------------\n",
    "# Callback for launching the choropleth graph the graph once metric is chosen by the user. \n",
    "@app.callback(\n",
    "    Output('my_choropleth', 'figure'),\n",
    "    Input('my_metric', 'value'),\n",
    "    Input('year_input', 'value'),\n",
    ")\n",
    "\n",
    "# The dataframe used here is the one I defined in feature2 \n",
    "def map_choropleth(metric, year, df = df_feature2): # default year is 2022 \n",
    "    \n",
    "    # subset depending on which variable, metric and year the user wants to look at \n",
    "    if (year == 2020): \n",
    "        subset = df[df['date'] == date_year1].copy()\n",
    "        \n",
    "    elif (year == 2021): \n",
    "        subset = df[df['date'] == date_year2].copy()\n",
    "\n",
    "    else: \n",
    "        subset = df[df['date'] == date_year3].copy()\n",
    "        \n",
    "    \n",
    "    # Choropleth \n",
    "    fig = px.choropleth(\n",
    "        subset,                               \n",
    "        locations = 'iso_code',                  \n",
    "        color = metric,                  \n",
    "        color_continuous_scale = 'sunsetdark',    # arbitrary\n",
    "        hover_name = 'country',              \n",
    "        hover_data = {'iso_code' : False},\n",
    "    )\n",
    "\n",
    "    fig.update_layout(\n",
    "        title = 'Hello', \n",
    "        coloraxis_colorbar_title = None,\n",
    "        geo_showframe = False,\n",
    "        margin = {'l' : 0, 'r' : 0, 'b' : 0, 't' : 0}\n",
    "    )\n",
    "    \n",
    "    return fig\n",
    "\n",
    "# ----------------------------------------------\n",
    "# Callback for launching the bar-plot. Output depending on the user choice of radioitem\n",
    "\n",
    "@app.callback(\n",
    "    Output('my_barplot', 'figure'),\n",
    "    Input('my_bar_choice', 'value'),\n",
    ")\n",
    "\n",
    "# The dataframe used here is the one I defined in feature3 \n",
    "def barplot(choice, df = weekly_df): \n",
    "    \n",
    "    subset = df.copy()\n",
    "    \n",
    "    fig = px.bar(\n",
    "        subset,\n",
    "        x = 'week',\n",
    "        y = choice,\n",
    "        color = choice\n",
    "        )   \n",
    "\n",
    "    fig.update_layout(\n",
    "        xaxis_title = 'Week', \n",
    "        yaxis_title = None,\n",
    "        title = f'Weekly occurences of {choice} in the world',\n",
    "        title_x = 0.5\n",
    "        )\n",
    "    \n",
    "    return fig\n",
    "\n",
    "\n",
    "# ----------------------------------------------\n",
    "# Launching the app \n",
    "if __name__ == '__main__':\n",
    "    app.run_server(debug=True, port=8063)"
   ]
  },
  {
   "cell_type": "code",
   "execution_count": null,
   "id": "c5b58da6",
   "metadata": {},
   "outputs": [],
   "source": []
  },
  {
   "cell_type": "code",
   "execution_count": null,
   "id": "9244dcdc",
   "metadata": {},
   "outputs": [],
   "source": []
  }
 ],
 "metadata": {
  "kernelspec": {
   "display_name": "Python 3 (ipykernel)",
   "language": "python",
   "name": "python3"
  },
  "language_info": {
   "codemirror_mode": {
    "name": "ipython",
    "version": 3
   },
   "file_extension": ".py",
   "mimetype": "text/x-python",
   "name": "python",
   "nbconvert_exporter": "python",
   "pygments_lexer": "ipython3",
   "version": "3.10.2"
  }
 },
 "nbformat": 4,
 "nbformat_minor": 5
}
